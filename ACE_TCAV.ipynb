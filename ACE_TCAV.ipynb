{
  "nbformat": 4,
  "nbformat_minor": 0,
  "metadata": {
    "kernelspec": {
      "display_name": "tcavenv",
      "language": "python",
      "name": "tcavenv"
    },
    "language_info": {
      "codemirror_mode": {
        "name": "ipython",
        "version": 3
      },
      "file_extension": ".py",
      "mimetype": "text/x-python",
      "name": "python",
      "nbconvert_exporter": "python",
      "pygments_lexer": "ipython3",
      "version": "3.7.6"
    },
    "colab": {
      "provenance": [],
      "collapsed_sections": [
        "GZcF9jydGWRR"
      ]
    }
  },
  "cells": [
    {
      "cell_type": "markdown",
      "source": [
        "# TCAV tutorial"
      ],
      "metadata": {
        "id": "GZcF9jydGWRR"
      }
    },
    {
      "cell_type": "code",
      "metadata": {
        "id": "LR4MON61J8t5",
        "colab": {
          "base_uri": "https://localhost:8080/"
        },
        "outputId": "2d4501d3-460a-481e-eff9-054713785fbe"
      },
      "source": [
        "# Clone the entire repo.\n",
        "!git clone https://github.com/tensorflow/tcav.git tcav\n",
        "%cd tcav\n",
        "!ls"
      ],
      "execution_count": null,
      "outputs": [
        {
          "output_type": "stream",
          "name": "stdout",
          "text": [
            "Cloning into 'tcav'...\n",
            "remote: Enumerating objects: 703, done.\u001b[K\n",
            "remote: Counting objects: 100% (3/3), done.\u001b[K\n",
            "remote: Compressing objects: 100% (3/3), done.\u001b[K\n",
            "remote: Total 703 (delta 0), reused 0 (delta 0), pack-reused 700\u001b[K\n",
            "Receiving objects: 100% (703/703), 636.48 KiB | 1.02 MiB/s, done.\n",
            "Resolving deltas: 100% (403/403), done.\n",
            "/content/tcav\n",
            "CONTRIBUTING.md        README.md\t Run_TCAV_on_colab.ipynb\n",
            "FetchDataAndModels.sh  requirements.txt  setup.py\n",
            "LICENSE\t\t       Run_TCAV.ipynb\t tcav\n"
          ]
        }
      ]
    },
    {
      "cell_type": "code",
      "metadata": {
        "id": "xHiswgX0vy9Z",
        "colab": {
          "base_uri": "https://localhost:8080/"
        },
        "outputId": "6a2f5b93-c304-4b5d-8a6a-201d2d562c0c"
      },
      "source": [
        "%cd /content/tcav/tcav/tcav_examples/image_models/imagenet\n",
        "%run download_and_make_datasets.py --source_dir=YOUR_FOLDER --number_of_images_per_folder=10 --number_of_random_folders=10"
      ],
      "execution_count": null,
      "outputs": [
        {
          "output_type": "stream",
          "name": "stdout",
          "text": [
            "/content/tcav/tcav/tcav_examples/image_models/imagenet\n",
            "Created source directory at YOUR_FOLDER\n",
            "Downloaded 10 for zebra\n",
            "Successfully created data at YOUR_FOLDER\n"
          ]
        }
      ]
    },
    {
      "cell_type": "code",
      "metadata": {
        "id": "lhRgRiO_Zpu0",
        "colab": {
          "base_uri": "https://localhost:8080/"
        },
        "outputId": "cc74082f-8c63-4ad0-f0d6-293be9a6e277"
      },
      "source": [
        "%cd /content/tcav"
      ],
      "execution_count": null,
      "outputs": [
        {
          "output_type": "stream",
          "name": "stdout",
          "text": [
            "/content/tcav\n"
          ]
        }
      ]
    },
    {
      "cell_type": "markdown",
      "metadata": {
        "id": "ij_QWVD5FzIk"
      },
      "source": [
        "Running TCAV\n",
        "\n",
        "\n",
        "This notebook walks you through things you need to run TCAV.\n",
        "\n",
        "Before running this notebook, run the following to download all the data.\n",
        "\n",
        "```\n",
        "cd tcav/tcav_examples/image_models/imagenet\n",
        "\n",
        "python download_and_make_datasets.py --source_dir=YOUR_PATH --number_of_images_per_folder=50 --number_of_random_folders=3\n",
        "```\n",
        "\n",
        "In high level, you need:\n",
        "\n",
        "1. **example images in each folder** (you have this if you ran the above)\n",
        " * images for each concept\n",
        " * images for the class/labels of interest\n",
        " * random images that will be negative examples when learning CAVs (images that probably don't belong to any concepts)\n",
        "2. **model wrapper** (below uses example from tcav/model.py)\n",
        " * an instance of  ModelWrapper abstract class (in model.py). This tells TCAV class (tcav.py) how to communicate with your model (e.g., getting internal tensors)\n",
        "3. **act_generator** (below uses example from tcav/activation_generator.py)\n",
        " * an instance of ActivationGeneratorInterface that tells TCAV class how to load example data and how to get activations from the model\n",
        "\n",
        "\n",
        "## Requirements\n",
        "\n",
        "    pip install the tcav and tensorflow packages (or tensorflow-gpu if using GPU)"
      ]
    },
    {
      "cell_type": "code",
      "metadata": {
        "id": "g8m6xBvYFzIm"
      },
      "source": [
        "%load_ext autoreload\n",
        "%autoreload 2"
      ],
      "execution_count": null,
      "outputs": []
    },
    {
      "cell_type": "code",
      "metadata": {
        "id": "RQ0iGRjNFzIt"
      },
      "source": [
        "import tcav.activation_generator as act_gen\n",
        "import tcav.cav as cav\n",
        "import tcav.model  as model\n",
        "import tcav.tcav as tcav\n",
        "import tcav.utils as utils\n",
        "import tcav.utils_plot as utils_plot # utils_plot requires matplotlib\n",
        "import os\n",
        "import tensorflow as tf"
      ],
      "execution_count": null,
      "outputs": []
    },
    {
      "cell_type": "markdown",
      "metadata": {
        "id": "VhThYR_EFzIx"
      },
      "source": [
        "## Step 1. Store concept and target class images to local folders\n",
        "\n",
        "and tell TCAV where they are.\n",
        "\n",
        "**source_dir**: where images of concepts, target class and random images (negative samples when learning CAVs) live. Each should be a sub-folder within this directory.\n",
        "\n",
        "Note that random image directories can be in any name. In this example, we are using `random500_0`, `random500_1`,.. for an arbitrary reason.\n",
        "\n",
        "You need roughly 50-200 images per concept and target class (10-20 pictures also tend to work, but 200 is pretty safe).\n",
        "\n",
        "\n",
        "**cav_dir**: directory to store CAVs (`None` if you don't want to store)\n",
        "\n",
        "**target, concept**: names of the target class (that you want to investigate) and concepts (strings) - these are folder names in source_dir\n",
        "\n",
        "**bottlenecks**: list of bottleneck names (intermediate layers in your model) that you want to use for TCAV. These names are defined in the model wrapper below.\n",
        "\n"
      ]
    },
    {
      "cell_type": "code",
      "metadata": {
        "id": "lPX3LOiZFzIy"
      },
      "source": [
        "# This is the name of your model wrapper (InceptionV3 and GoogleNet are provided in model.py)\n",
        "model_to_run = 'GoogleNet'\n",
        "# the name of the parent directory that results are stored (only if you want to cache)\n",
        "project_name = 'tcav_class_test'\n",
        "working_dir = '/content/tcav/tcav'\n",
        "# where activations are stored (only if your act_gen_wrapper does so)\n",
        "activation_dir =  working_dir+ '/activations/'\n",
        "# where CAVs are stored.\n",
        "# You can say None if you don't wish to store any.\n",
        "cav_dir = working_dir + '/cavs/'\n",
        "# where the images live.\n",
        "source_dir = '/content/tcav/tcav/tcav_examples/image_models/imagenet/YOUR_FOLDER'\n",
        "bottlenecks = [ 'mixed4c']  # @param\n",
        "\n",
        "utils.make_dir_if_not_exists(activation_dir)\n",
        "utils.make_dir_if_not_exists(working_dir)\n",
        "utils.make_dir_if_not_exists(cav_dir)\n",
        "\n",
        "# this is a regularizer penalty parameter for linear classifier to get CAVs.\n",
        "alphas = [0.1]\n",
        "\n",
        "target = 'zebra'\n",
        "concepts = [\"dotted\",\"striped\",\"zigzagged\"]\n"
      ],
      "execution_count": null,
      "outputs": []
    },
    {
      "cell_type": "markdown",
      "metadata": {
        "id": "vmdo01TEFzI4"
      },
      "source": [
        "## Step 2. Write your model wrapper\n",
        "\n",
        "Next step is to tell TCAV how to communicate with your model. See `model.GoogleNetWrapper_public ` for details.\n",
        "\n",
        "You can define a subclass of ModelWrapper abstract class to do this. Let me walk you thru what each function does (tho they are pretty self-explanatory).  This wrapper includes a lot of the functions that you already have, for example, `get_prediction`.\n",
        "\n",
        "### 1. Tensors from the graph: bottleneck tensors and ends\n",
        "First, store your bottleneck tensors in `self.bottlenecks_tensors` as a dictionary. You only need bottlenecks that you are interested in running TCAV with. Similarly, fill in `self.ends` dictionary with `input`, `logit` and `prediction` tensors.\n",
        "\n",
        "### 2. Define loss\n",
        "Get your loss tensor, and assigned it to `self.loss`. This is what TCAV uses to take directional derivatives.\n",
        "\n",
        "While doing so, you would also want to set\n",
        "```python\n",
        "self.y_input\n",
        "```\n",
        "this simply is a tensorflow place holder for the target index in the logit layer (e.g., 0 index for a dog, 1 for a cat).\n",
        "For multi-class classification, typically something like this works:\n",
        "\n",
        "```python\n",
        "self.y_input = tf.placeholder(tf.int64, shape=[None])\n",
        "```\n",
        "\n",
        "For example, for a multiclass classifier, something like below would work.\n",
        "\n",
        "```python\n",
        "    # Construct gradient ops.\n",
        "    with g.as_default():\n",
        "      self.y_input = tf.placeholder(tf.int64, shape=[None])\n",
        "\n",
        "      self.pred = tf.expand_dims(self.ends['prediction'][0], 0)\n",
        "\n",
        "      self.loss = tf.reduce_mean(\n",
        "          tf.nn.softmax_cross_entropy_with_logits(\n",
        "              labels=tf.one_hot(self.y_input, len(self.labels)),\n",
        "              logits=self.pred))\n",
        "    self._make_gradient_tensors()\n",
        "```\n",
        "\n",
        "### 3. Call _make_gradient_tensors in __init__() of your wrapper\n",
        "```python\n",
        "_make_gradient_tensors()\n",
        "```\n",
        "does what you expect - given the loss and bottleneck tensors defined above, it adds gradient tensors.\n",
        "\n",
        "### 4. Fill in labels, image shapes and a model name.\n",
        "Get the mapping from labels (strings) to indice in the logit layer (int) in a dictionary format.\n",
        "\n",
        "```python\n",
        "def id_to_label(self, idx)\n",
        "def label_to_id(self, label)\n",
        "```\n",
        "\n",
        "Set your input image shape at  `self.image_shape`\n",
        "\n",
        "\n",
        "Set your model name to `self.model_name`\n",
        "\n",
        "You are done with writing the model wrapper! I wrote two model wrapers, InceptionV3 and Googlenet."
      ]
    },
    {
      "cell_type": "markdown",
      "metadata": {
        "id": "ZvEO4u1iFzI4"
      },
      "source": [
        "\n",
        "**sess**: a tensorflow session."
      ]
    },
    {
      "cell_type": "code",
      "metadata": {
        "id": "KmV0F2bQdHpq",
        "colab": {
          "base_uri": "https://localhost:8080/"
        },
        "outputId": "3b9640f8-4cef-43cf-9b0f-0be05b624a40"
      },
      "source": [
        "%cp -av '/content/tcav/tcav/tcav_examples/image_models/imagenet/YOUR_FOLDER/mobilenet_v2_1.0_224' '/content/tcav/tcav/mobilenet_v2_1.0_224'\n",
        "%rm '/content/tcav/tcav/tcav_examples/image_models/imagenet/YOUR_FOLDER/mobilenet_v2_1.0_224'"
      ],
      "execution_count": null,
      "outputs": [
        {
          "output_type": "stream",
          "name": "stdout",
          "text": [
            "'/content/tcav/tcav/tcav_examples/image_models/imagenet/YOUR_FOLDER/mobilenet_v2_1.0_224' -> '/content/tcav/tcav/mobilenet_v2_1.0_224'\n",
            "'/content/tcav/tcav/tcav_examples/image_models/imagenet/YOUR_FOLDER/mobilenet_v2_1.0_224/mobilenet_v2_1.0_224_eval.pbtxt' -> '/content/tcav/tcav/mobilenet_v2_1.0_224/mobilenet_v2_1.0_224_eval.pbtxt'\n",
            "'/content/tcav/tcav/tcav_examples/image_models/imagenet/YOUR_FOLDER/mobilenet_v2_1.0_224/mobilenet_v2_1.0_224.ckpt.data-00000-of-00001' -> '/content/tcav/tcav/mobilenet_v2_1.0_224/mobilenet_v2_1.0_224.ckpt.data-00000-of-00001'\n",
            "'/content/tcav/tcav/tcav_examples/image_models/imagenet/YOUR_FOLDER/mobilenet_v2_1.0_224/mobilenet_v2_1.0_224_frozen.pb' -> '/content/tcav/tcav/mobilenet_v2_1.0_224/mobilenet_v2_1.0_224_frozen.pb'\n",
            "'/content/tcav/tcav/tcav_examples/image_models/imagenet/YOUR_FOLDER/mobilenet_v2_1.0_224/mobilenet_v2_1.0_224.tflite' -> '/content/tcav/tcav/mobilenet_v2_1.0_224/mobilenet_v2_1.0_224.tflite'\n",
            "'/content/tcav/tcav/tcav_examples/image_models/imagenet/YOUR_FOLDER/mobilenet_v2_1.0_224/mobilenet_v2_1.0_224_info.txt' -> '/content/tcav/tcav/mobilenet_v2_1.0_224/mobilenet_v2_1.0_224_info.txt'\n",
            "'/content/tcav/tcav/tcav_examples/image_models/imagenet/YOUR_FOLDER/mobilenet_v2_1.0_224/mobilenet_v2_1.0_224.ckpt.meta' -> '/content/tcav/tcav/mobilenet_v2_1.0_224/mobilenet_v2_1.0_224.ckpt.meta'\n",
            "'/content/tcav/tcav/tcav_examples/image_models/imagenet/YOUR_FOLDER/mobilenet_v2_1.0_224/mobilenet_v2_1.0_224.ckpt.index' -> '/content/tcav/tcav/mobilenet_v2_1.0_224/mobilenet_v2_1.0_224.ckpt.index'\n",
            "rm: cannot remove '/content/tcav/tcav/tcav_examples/image_models/imagenet/YOUR_FOLDER/mobilenet_v2_1.0_224': Is a directory\n"
          ]
        }
      ]
    },
    {
      "cell_type": "code",
      "metadata": {
        "id": "C3Gf9yAag2JM",
        "colab": {
          "base_uri": "https://localhost:8080/"
        },
        "outputId": "850d3aaa-35e1-44b0-96f1-6c2a9291aaf9"
      },
      "source": [
        "%cp -av '/content/tcav/tcav/tcav_examples/image_models/imagenet/YOUR_FOLDER/inception5h' '/content/tcav/tcav/inception5h'\n",
        "%rm '/content/tcav/tcav/tcav_examples/image_models/imagenet/YOUR_FOLDER/inception5h'"
      ],
      "execution_count": null,
      "outputs": [
        {
          "output_type": "stream",
          "name": "stdout",
          "text": [
            "'/content/tcav/tcav/tcav_examples/image_models/imagenet/YOUR_FOLDER/inception5h' -> '/content/tcav/tcav/inception5h'\n",
            "'/content/tcav/tcav/tcav_examples/image_models/imagenet/YOUR_FOLDER/inception5h/imagenet_comp_graph_label_strings.txt' -> '/content/tcav/tcav/inception5h/imagenet_comp_graph_label_strings.txt'\n",
            "'/content/tcav/tcav/tcav_examples/image_models/imagenet/YOUR_FOLDER/inception5h/tensorflow_inception_graph.pb' -> '/content/tcav/tcav/inception5h/tensorflow_inception_graph.pb'\n",
            "'/content/tcav/tcav/tcav_examples/image_models/imagenet/YOUR_FOLDER/inception5h/LICENSE' -> '/content/tcav/tcav/inception5h/LICENSE'\n",
            "rm: cannot remove '/content/tcav/tcav/tcav_examples/image_models/imagenet/YOUR_FOLDER/inception5h': Is a directory\n"
          ]
        }
      ]
    },
    {
      "cell_type": "code",
      "metadata": {
        "id": "AqLdl3GBFzI5"
      },
      "source": [
        "sess = utils.create_session()\n",
        "\n",
        "# GRAPH_PATH is where the trained model is stored.\n",
        "GRAPH_PATH = \"/content/tcav/tcav/inception5h/tensorflow_inception_graph.pb\"\n",
        "# LABEL_PATH is where the labels are stored. Each line contains one class, and they are ordered with respect to their index in\n",
        "# the logit layer. (yes, id_to_label function in the model wrapper reads from this file.)\n",
        "# For example, imagenet_comp_graph_label_strings.txt looks like:\n",
        "# dummy\n",
        "# kit fox\n",
        "# English setter\n",
        "# Siberian husky ...\n",
        "\n",
        "LABEL_PATH = \"/content/tcav/tcav/inception5h/imagenet_comp_graph_label_strings.txt\"\n",
        "\n",
        "mymodel = model.GoogleNetWrapper_public(sess,\n",
        "                                        GRAPH_PATH,\n",
        "                                        LABEL_PATH)"
      ],
      "execution_count": null,
      "outputs": []
    },
    {
      "cell_type": "markdown",
      "metadata": {
        "id": "WlGsrlh3FzI-"
      },
      "source": [
        "## Step 3. Implement a class that returns activations (maybe with caching!)\n",
        "\n",
        "Lastly, you will implement a class of the ActivationGenerationInterface which TCAV uses to load example data for a given concept or target, call into your model wrapper and return activations. I pulled out this logic outside of mymodel because this step often takes the longest. By making it modular, you can cache your activations and/or parallelize your computations, as I have done in `ActivationGeneratorBase.process_and_load_activations` in `activation_generator.py`.\n",
        "\n",
        "\n",
        "The `process_and_load_activations` method of the activation generator must return a dictionary of activations that has concept or target name as  a first key, and the bottleneck name as a second key. So something like:\n",
        "\n",
        "```python\n",
        "{concept1: {bottleneck1: [[0.2, 0.1, ....]]},\n",
        "concept2: {bottleneck1: [[0.1, 0.02, ....]]},\n",
        "target1: {bottleneck1: [[0.02, 0.99, ....]]}\n",
        "```\n"
      ]
    },
    {
      "cell_type": "code",
      "metadata": {
        "id": "xIC73E-jFzI_"
      },
      "source": [
        "act_generator = act_gen.ImageActivationGenerator(mymodel, source_dir, activation_dir, max_examples=100)"
      ],
      "execution_count": null,
      "outputs": []
    },
    {
      "cell_type": "markdown",
      "metadata": {
        "id": "Oj-b7hEUFzJD"
      },
      "source": [
        "## You are ready to run TCAV!\n",
        "\n",
        "Let's do it.\n",
        "\n",
        "**num_random_exp**: number of experiments to confirm meaningful concept direction. TCAV will search for this many folders named `random500_0`, `random500_1`, etc. You can alternatively set the `random_concepts` keyword to be a list of folders of random concepts. Run at least 10-20 for meaningful tests.\n",
        "\n",
        "**random_counterpart**: as well as the above, you can optionally supply a single folder with random images as the \"positive set\" for statistical testing. Reduces computation time at the cost of less reliable random TCAV scores.\n"
      ]
    },
    {
      "cell_type": "code",
      "metadata": {
        "scrolled": false,
        "id": "J4SQ49frFzJE",
        "colab": {
          "base_uri": "https://localhost:8080/"
        },
        "outputId": "376a77ba-4fee-4d18-cb79-d4e659eaeca4"
      },
      "source": [
        "import absl\n",
        "absl.logging.set_verbosity(0)\n",
        "num_random_exp=10\n",
        "## only running num_random_exp = 10 to save some time. The paper number are reported for 500 random runs.\n",
        "mytcav = tcav.TCAV(sess,\n",
        "                   target,\n",
        "                   concepts,\n",
        "                   bottlenecks,\n",
        "                   act_generator,\n",
        "                   alphas,\n",
        "                   cav_dir=cav_dir,\n",
        "                   num_random_exp=num_random_exp)#10)\n",
        "print ('This may take a while... Go get coffee!')\n",
        "results = mytcav.run(run_parallel=False)\n",
        "print ('done!')"
      ],
      "execution_count": null,
      "outputs": [
        {
          "output_type": "stream",
          "name": "stdout",
          "text": [
            "This may take a while... Go get coffee!\n",
            "done!\n"
          ]
        }
      ]
    },
    {
      "cell_type": "code",
      "metadata": {
        "scrolled": false,
        "id": "3fD-6zdqFzJN",
        "colab": {
          "base_uri": "https://localhost:8080/",
          "height": 646
        },
        "outputId": "bc20d95f-eff2-4fc3-e608-6c16228f4457"
      },
      "source": [
        "utils_plot.plot_results(results, num_random_exp=num_random_exp)"
      ],
      "execution_count": null,
      "outputs": [
        {
          "output_type": "stream",
          "name": "stdout",
          "text": [
            "Class = zebra\n",
            "  Concept = dotted\n",
            "    Bottleneck = mixed4c. TCAV Score = 0.38 (+- 0.21), random was 0.50 (+- 0.25). p-val = 0.147 (not significant)\n",
            "  Concept = striped\n",
            "    Bottleneck = mixed4c. TCAV Score = 0.74 (+- 0.29), random was 0.50 (+- 0.25). p-val = 0.006 (significant)\n",
            "  Concept = zigzagged\n",
            "    Bottleneck = mixed4c. TCAV Score = 0.76 (+- 0.23), random was 0.50 (+- 0.25). p-val = 0.003 (significant)\n",
            "{'mixed4c': {'bn_vals': [0.01, 0.7444444444444445, 0.7555555555555556], 'bn_stds': [0, 0.28995529668221975, 0.22662308949301266], 'significant': [False, True, True]}}\n"
          ]
        },
        {
          "output_type": "display_data",
          "data": {
            "text/plain": [
              "<Figure size 640x480 with 1 Axes>"
            ],
            "image/png": "[encoded data removed]"
          },
          "metadata": {}
        }
      ]
    },
    {
      "cell_type": "markdown",
      "source": [
        "# ACE"
      ],
      "metadata": {
        "id": "40Lze3jZohXn"
      }
    },
    {
      "cell_type": "code",
      "source": [
        "# Clone the entire repo.\n",
        "!git clone https://github.com/tensorflow/tcav.git tcav\n",
        "%cd tcav\n",
        "!ls"
      ],
      "metadata": {
        "colab": {
          "base_uri": "https://localhost:8080/"
        },
        "id": "Mlfbls_RogsR",
        "outputId": "e5078385-deca-4252-ae43-ba47eb8d115b"
      },
      "execution_count": null,
      "outputs": [
        {
          "output_type": "stream",
          "name": "stdout",
          "text": [
            "Cloning into 'tcav'...\n",
            "remote: Enumerating objects: 703, done.\u001b[K\n",
            "remote: Counting objects: 100% (3/3), done.\u001b[K\n",
            "remote: Compressing objects: 100% (3/3), done.\u001b[K\n",
            "remote: Total 703 (delta 0), reused 0 (delta 0), pack-reused 700\u001b[K\n",
            "Receiving objects: 100% (703/703), 636.82 KiB | 19.90 MiB/s, done.\n",
            "Resolving deltas: 100% (403/403), done.\n",
            "/content/tcav\n",
            "CONTRIBUTING.md        README.md\t Run_TCAV_on_colab.ipynb\n",
            "FetchDataAndModels.sh  requirements.txt  setup.py\n",
            "LICENSE\t\t       Run_TCAV.ipynb\t tcav\n"
          ]
        }
      ]
    },
    {
      "cell_type": "code",
      "source": [
        "from google.colab import drive\n",
        "drive.mount('/content/drive')"
      ],
      "metadata": {
        "colab": {
          "base_uri": "https://localhost:8080/"
        },
        "id": "mVL_zbGS9Dv6",
        "outputId": "9cc61fb6-3c1a-4923-cbfb-be50e559534e"
      },
      "execution_count": null,
      "outputs": [
        {
          "output_type": "stream",
          "name": "stdout",
          "text": [
            "Mounted at /content/drive\n"
          ]
        }
      ]
    },
    {
      "cell_type": "code",
      "source": [
        "!cp /content/drive/Othercomputers/Mylaptop/ACE_TCAV/tcav_2/tcav/model.py /content/tcav/tcav/model.py"
      ],
      "metadata": {
        "id": "XMPinNaxetg8"
      },
      "execution_count": null,
      "outputs": []
    },
    {
      "cell_type": "code",
      "source": [
        "!pip install /content/tcav"
      ],
      "metadata": {
        "colab": {
          "base_uri": "https://localhost:8080/"
        },
        "id": "nDbmIxQiCiUF",
        "outputId": "f86082f0-df4c-4f57-d9a7-2b9d2117b34e"
      },
      "execution_count": null,
      "outputs": [
        {
          "output_type": "stream",
          "name": "stdout",
          "text": [
            "Looking in indexes: https://pypi.org/simple, https://us-python.pkg.dev/colab-wheels/public/simple/\n",
            "Processing /content/tcav\n",
            "  Preparing metadata (setup.py) ... \u001b[?25l\u001b[?25hdone\n",
            "Requirement already satisfied: matplotlib>=2.2.4 in /usr/local/lib/python3.10/dist-packages (from tcav==0.2.2) (3.7.1)\n",
            "Requirement already satisfied: Pillow>=6.0.0 in /usr/local/lib/python3.10/dist-packages (from tcav==0.2.2) (8.4.0)\n",
            "Requirement already satisfied: scikit-learn>=0.20.3 in /usr/local/lib/python3.10/dist-packages (from tcav==0.2.2) (1.2.2)\n",
            "Requirement already satisfied: scipy>=1.2.1 in /usr/local/lib/python3.10/dist-packages (from tcav==0.2.2) (1.10.1)\n",
            "Requirement already satisfied: protobuf>=3.10.0 in /usr/local/lib/python3.10/dist-packages (from tcav==0.2.2) (3.20.3)\n",
            "Requirement already satisfied: contourpy>=1.0.1 in /usr/local/lib/python3.10/dist-packages (from matplotlib>=2.2.4->tcav==0.2.2) (1.0.7)\n",
            "Requirement already satisfied: cycler>=0.10 in /usr/local/lib/python3.10/dist-packages (from matplotlib>=2.2.4->tcav==0.2.2) (0.11.0)\n",
            "Requirement already satisfied: fonttools>=4.22.0 in /usr/local/lib/python3.10/dist-packages (from matplotlib>=2.2.4->tcav==0.2.2) (4.39.3)\n",
            "Requirement already satisfied: kiwisolver>=1.0.1 in /usr/local/lib/python3.10/dist-packages (from matplotlib>=2.2.4->tcav==0.2.2) (1.4.4)\n",
            "Requirement already satisfied: numpy>=1.20 in /usr/local/lib/python3.10/dist-packages (from matplotlib>=2.2.4->tcav==0.2.2) (1.22.4)\n",
            "Requirement already satisfied: packaging>=20.0 in /usr/local/lib/python3.10/dist-packages (from matplotlib>=2.2.4->tcav==0.2.2) (23.1)\n",
            "Requirement already satisfied: pyparsing>=2.3.1 in /usr/local/lib/python3.10/dist-packages (from matplotlib>=2.2.4->tcav==0.2.2) (3.0.9)\n",
            "Requirement already satisfied: python-dateutil>=2.7 in /usr/local/lib/python3.10/dist-packages (from matplotlib>=2.2.4->tcav==0.2.2) (2.8.2)\n",
            "Requirement already satisfied: joblib>=1.1.1 in /usr/local/lib/python3.10/dist-packages (from scikit-learn>=0.20.3->tcav==0.2.2) (1.2.0)\n",
            "Requirement already satisfied: threadpoolctl>=2.0.0 in /usr/local/lib/python3.10/dist-packages (from scikit-learn>=0.20.3->tcav==0.2.2) (3.1.0)\n",
            "Requirement already satisfied: six>=1.5 in /usr/local/lib/python3.10/dist-packages (from python-dateutil>=2.7->matplotlib>=2.2.4->tcav==0.2.2) (1.16.0)\n",
            "Building wheels for collected packages: tcav\n",
            "  Building wheel for tcav (setup.py) ... \u001b[?25l\u001b[?25hdone\n",
            "  Created wheel for tcav: filename=tcav-0.2.2-py3-none-any.whl size=54508 sha256=150fe4bc7ff26bfd3789c52d915bf88d3bb9072de3faeeea4e9c4228f8065cc0\n",
            "  Stored in directory: /tmp/pip-ephem-wheel-cache-s55s6c1p/wheels/9b/e1/eb/24809ef1f3806011e6a66c1ff746c2c501f076d083a14b9681\n",
            "Successfully built tcav\n",
            "Installing collected packages: tcav\n",
            "Successfully installed tcav-0.2.2\n"
          ]
        }
      ]
    },
    {
      "cell_type": "code",
      "source": [
        "!cp -av /content/drive/Othercomputers/Mylaptop/ACE_TCAV/ace /content/tcav"
      ],
      "metadata": {
        "colab": {
          "base_uri": "https://localhost:8080/"
        },
        "id": "AlpPzdyOqbAG",
        "outputId": "e6a49cfc-0207-45f6-f559-32229d786930"
      },
      "execution_count": null,
      "outputs": [
        {
          "output_type": "stream",
          "name": "stdout",
          "text": [
            "'/content/drive/Othercomputers/Mylaptop/ACE_TCAV/ace' -> '/content/tcav/ace'\n",
            "'/content/drive/Othercomputers/Mylaptop/ACE_TCAV/ace/tensorflow_inception_graph.pb' -> '/content/tcav/ace/tensorflow_inception_graph.pb'\n",
            "'/content/drive/Othercomputers/Mylaptop/ACE_TCAV/ace/ace_run.py' -> '/content/tcav/ace/ace_run.py'\n",
            "'/content/drive/Othercomputers/Mylaptop/ACE_TCAV/ace/saved_model.pb' -> '/content/tcav/ace/saved_model.pb'\n",
            "'/content/drive/Othercomputers/Mylaptop/ACE_TCAV/ace/my_model_vgg.h5' -> '/content/tcav/ace/my_model_vgg.h5'\n",
            "'/content/drive/Othercomputers/Mylaptop/ACE_TCAV/ace/ace_helpers.py' -> '/content/tcav/ace/ace_helpers.py'\n",
            "'/content/drive/Othercomputers/Mylaptop/ACE_TCAV/ace/simple_arch_model.h5' -> '/content/tcav/ace/simple_arch_model.h5'\n",
            "'/content/drive/Othercomputers/Mylaptop/ACE_TCAV/ace/resnet50_v1' -> '/content/tcav/ace/resnet50_v1'\n",
            "'/content/drive/Othercomputers/Mylaptop/ACE_TCAV/ace/resnet50_v1/checkpoint' -> '/content/tcav/ace/resnet50_v1/checkpoint'\n",
            "'/content/drive/Othercomputers/Mylaptop/ACE_TCAV/ace/resnet50_v1/resnet50.ckpt-1.data-00000-of-00002' -> '/content/tcav/ace/resnet50_v1/resnet50.ckpt-1.data-00000-of-00002'\n",
            "'/content/drive/Othercomputers/Mylaptop/ACE_TCAV/ace/resnet50_v1/resnet50.ckpt-1.index' -> '/content/tcav/ace/resnet50_v1/resnet50.ckpt-1.index'\n",
            "'/content/drive/Othercomputers/Mylaptop/ACE_TCAV/ace/resnet50_v1/resnet50.ckpt-1.data-00001-of-00002' -> '/content/tcav/ace/resnet50_v1/resnet50.ckpt-1.data-00001-of-00002'\n",
            "'/content/drive/Othercomputers/Mylaptop/ACE_TCAV/ace/tf_model.h5' -> '/content/tcav/ace/tf_model.h5'\n",
            "'/content/drive/Othercomputers/Mylaptop/ACE_TCAV/ace/vgg16_all.h5' -> '/content/tcav/ace/vgg16_all.h5'\n",
            "'/content/drive/Othercomputers/Mylaptop/ACE_TCAV/ace/vgg.h5' -> '/content/tcav/ace/vgg.h5'\n",
            "'/content/drive/Othercomputers/Mylaptop/ACE_TCAV/ace/project_utilsy.ipynb' -> '/content/tcav/ace/project_utilsy.ipynb'\n",
            "'/content/drive/Othercomputers/Mylaptop/ACE_TCAV/ace/ace.code-workspace' -> '/content/tcav/ace/ace.code-workspace'\n",
            "'/content/drive/Othercomputers/Mylaptop/ACE_TCAV/ace/vgg16_over0_92.h5' -> '/content/tcav/ace/vgg16_over0_92.h5'\n",
            "'/content/drive/Othercomputers/Mylaptop/ACE_TCAV/ace/vgg16_fas.h5' -> '/content/tcav/ace/vgg16_fas.h5'\n",
            "'/content/drive/Othercomputers/Mylaptop/ACE_TCAV/ace/vgg16_animal_8_may.h5' -> '/content/tcav/ace/vgg16_animal_8_may.h5'\n",
            "'/content/drive/Othercomputers/Mylaptop/ACE_TCAV/ace/label_names.txt' -> '/content/tcav/ace/label_names.txt'\n",
            "'/content/drive/Othercomputers/Mylaptop/ACE_TCAV/ace/ace.py' -> '/content/tcav/ace/ace.py'\n",
            "'/content/drive/Othercomputers/Mylaptop/ACE_TCAV/ace/vgg16_animal_3_june.h5' -> '/content/tcav/ace/vgg16_animal_3_june.h5'\n"
          ]
        }
      ]
    },
    {
      "cell_type": "code",
      "source": [
        "# !git clone https://github.com/amiratag/ACE.git ace"
      ],
      "metadata": {
        "id": "Ybm-J5T49HKz"
      },
      "execution_count": null,
      "outputs": []
    },
    {
      "cell_type": "code",
      "source": [
        "animals = ['zebra', 'tiger', 'giant_panda',  'lion', 'bison',\t'bald_eagle',  'tree_frog',  'african_crocodile', \t'hippopotamus', 'african_elephant']\n",
        "\n",
        "# !python3 /content/tcav/ace/ace_run.py --target_class zebra --source_dir /content/drive/MyDrive/MG/work_space/TCAV_ACE/workspace/source_dir --working_dir /content/drive/MyDrive/MG/work_space/TCAV_ACE/workspace/save_dir --model_to_run Kears --model_path /content/tcav/ace/tf_model.h5 --labels_path /content/tcav/ace/label_names.txt --bottlenecks conv2d_5 --num_random_exp 5 --max_imgs 50 --min_imgs 30  --num_parallel_workers 0"
      ],
      "metadata": {
        "id": "v6wtcR8AGTrJ"
      },
      "execution_count": null,
      "outputs": []
    },
    {
      "cell_type": "code",
      "source": [
        "# /content/tcav/ace/vgg16_animal_8_may.h5 previus sulution"
      ],
      "metadata": {
        "id": "zaDKhnRUSMtK"
      },
      "execution_count": null,
      "outputs": []
    },
    {
      "cell_type": "code",
      "source": [
        "!python3 /content/tcav/ace/ace_run.py --target_class african_elephant --source_dir /content/drive/MyDrive/MG/work_space/TCAV_ACE/workspace/source_dir --working_dir /content/drive/MyDrive/MG/work_space/TCAV_ACE/workspace/save_dir --model_to_run Kears --model_path  /content/drive/Othercomputers/Mylaptop/ACE_TCAV/ace/vgg16_animal_3_june.h5 --labels_path /content/tcav/ace/label_names.txt --bottlenecks block4_conv2 --num_random_exp 25 --max_imgs 50 --min_imgs 30  --num_parallel_workers 2"
      ],
      "metadata": {
        "colab": {
          "base_uri": "https://localhost:8080/"
        },
        "id": "Gzo3se8c9MR1",
        "outputId": "6131fd93-b009-4dfe-ab67-71e0553b11a8"
      },
      "execution_count": null,
      "outputs": [
        {
          "output_type": "stream",
          "name": "stdout",
          "text": [
            "2023-06-14 06:59:39.446167: I tensorflow/core/platform/cpu_feature_guard.cc:182] This TensorFlow binary is optimized to use available CPU instructions in performance-critical operations.\n",
            "To enable the following instructions: AVX2 FMA, in other operations, rebuild TensorFlow with the appropriate compiler flags.\n",
            "2023-06-14 06:59:40.898665: W tensorflow/compiler/tf2tensorrt/utils/py_utils.cc:38] TF-TRT Warning: Could not find TensorRT\n",
            "2023-06-14 06:59:44.448615: I tensorflow/compiler/mlir/mlir_graph_optimization_pass.cc:353] MLIR V1 optimization pass is not enabled\n",
            "2023-06-14 06:59:44.461936: W tensorflow/c/c_api.cc:300] Operation '{name:'dense/kernel/Assign' id:579 op device:{requested: '', assigned: ''} def:{{{node dense/kernel/Assign}} = AssignVariableOp[_has_manual_control_dependencies=true, dtype=DT_FLOAT, validate_shape=false](dense/kernel, dense/kernel/Initializer/stateless_random_uniform)}}' was changed by setting attribute after it was run by a session. This mutation will have no effect, and will trigger an error in the future. Either don't modify nodes after running them or create a new session.\n",
            "jestem w if input\n",
            "jestem w if input\n",
            "jestem w if input\n",
            "jestem w if input\n",
            "jestem w if input\n",
            "jestem w if input\n",
            "jestem w if input\n",
            "jestem w if input\n",
            "jestem w if input\n",
            "jestem w if input\n",
            "jestem w if input\n",
            "jestem w if input\n",
            "jestem w if input\n",
            "jestem w if input\n",
            "jestem w if input\n",
            "jestem w if input\n",
            "jestem w if input\n",
            "jestem w if input\n",
            "jestem w if input\n",
            "jestem w if input\n",
            "jestem w if input\n",
            "{'sequential': <tf.Tensor 'random_rotation/transform/ImageProjectiveTransformV3:0' shape=(None, 224, 224, 3) dtype=float32>, 'block1_conv1': <tf.Tensor 'block1_conv1/Relu:0' shape=(None, 224, 224, 64) dtype=float32>, 'block1_conv2': <tf.Tensor 'block1_conv2/Relu:0' shape=(None, 224, 224, 64) dtype=float32>, 'block1_pool': <tf.Tensor 'block1_pool/MaxPool:0' shape=(None, 112, 112, 64) dtype=float32>, 'block2_conv1': <tf.Tensor 'block2_conv1/Relu:0' shape=(None, 112, 112, 128) dtype=float32>, 'block2_conv2': <tf.Tensor 'block2_conv2/Relu:0' shape=(None, 112, 112, 128) dtype=float32>, 'block2_pool': <tf.Tensor 'block2_pool/MaxPool:0' shape=(None, 56, 56, 128) dtype=float32>, 'block3_conv1': <tf.Tensor 'block3_conv1/Relu:0' shape=(None, 56, 56, 256) dtype=float32>, 'block3_conv2': <tf.Tensor 'block3_conv2/Relu:0' shape=(None, 56, 56, 256) dtype=float32>, 'block3_conv3': <tf.Tensor 'block3_conv3/Relu:0' shape=(None, 56, 56, 256) dtype=float32>, 'block3_pool': <tf.Tensor 'block3_pool/MaxPool:0' shape=(None, 28, 28, 256) dtype=float32>, 'block4_conv1': <tf.Tensor 'block4_conv1/Relu:0' shape=(None, 28, 28, 512) dtype=float32>, 'block4_conv2': <tf.Tensor 'block4_conv2/Relu:0' shape=(None, 28, 28, 512) dtype=float32>, 'block4_conv3': <tf.Tensor 'block4_conv3/Relu:0' shape=(None, 28, 28, 512) dtype=float32>, 'block4_pool': <tf.Tensor 'block4_pool/MaxPool:0' shape=(None, 14, 14, 512) dtype=float32>, 'block5_conv1': <tf.Tensor 'block5_conv1/Relu:0' shape=(None, 14, 14, 512) dtype=float32>, 'block5_conv2': <tf.Tensor 'block5_conv2/Relu:0' shape=(None, 14, 14, 512) dtype=float32>, 'block5_conv3': <tf.Tensor 'block5_conv3/Relu:0' shape=(None, 14, 14, 512) dtype=float32>, 'block5_pool': <tf.Tensor 'block5_pool/MaxPool:0' shape=(None, 7, 7, 512) dtype=float32>, 'global_average_pooling2d': <tf.Tensor 'global_average_pooling2d/Mean:0' shape=(None, 512) dtype=float32>, 'dense': <tf.Tensor 'dense/Softmax:0' shape=(None, 10) dtype=float32>}\n",
            "{'input': <tf.Tensor 'sequential_input:0' shape=(None, 224, 224, 3) dtype=float32>, 'prediction': <tf.Tensor 'dense/Softmax:0' shape=(None, 10) dtype=float32>}\n",
            "Jestem po labels ['african elephant', 'giant panda', 'lion', 'tiger', 'bison', 'bald eagle', 'tree frog', 'african crocodile', 'hippopotamus', 'zebra']\n",
            "Jestem po y_input Tensor(\"Placeholder_28:0\", shape=(None,), dtype=int64)\n",
            "outputs Tensor(\"dense/Softmax:0\", shape=(None, 10), dtype=float32)\n",
            "Jestem po loss Tensor(\"sparse_categorical_crossentropy/weighted_loss/value:0\", shape=(), dtype=float32)\n",
            "Jestem po gradient tensors <bound method ModelWrapper._make_gradient_tensors of <tcav.model.KerasModelWrapper object at 0x7f647beaa830>>\n",
            "......................... [15, 50, 80] [40, 40, 40]\n",
            "......................... [15, 50, 80] [40, 40, 40]\n",
            "......................... [15, 50, 80] [40, 40, 40]\n",
            "......................... [15, 50, 80] [40, 40, 40]\n",
            "......................... [15, 50, 80] [40, 40, 40]\n",
            "......................... [15, 50, 80] [40, 40, 40]\n",
            "......................... [15, 50, 80] [40, 40, 40]\n",
            "......................... [15, 50, 80] [40, 40, 40]\n",
            "......................... [15, 50, 80] [40, 40, 40]\n",
            "......................... [15, 50, 80] [40, 40, 40]\n",
            "......................... [15, 50, 80] [40, 40, 40]\n",
            "......................... [15, 50, 80] [40, 40, 40]\n",
            "......................... [15, 50, 80] [40, 40, 40]\n",
            "......................... [15, 50, 80] [40, 40, 40]\n",
            "......................... [15, 50, 80] [40, 40, 40]\n",
            "......................... [15, 50, 80] [40, 40, 40]\n",
            "......................... [15, 50, 80] [40, 40, 40]\n",
            "......................... [15, 50, 80] [40, 40, 40]\n",
            "......................... [15, 50, 80] [40, 40, 40]\n",
            "......................... [15, 50, 80] [40, 40, 40]\n",
            "......................... [15, 50, 80] [40, 40, 40]\n",
            "......................... [15, 50, 80] [40, 40, 40]\n",
            "......................... [15, 50, 80] [40, 40, 40]\n",
            "......................... [15, 50, 80] [40, 40, 40]\n",
            "......................... [15, 50, 80] [40, 40, 40]\n",
            "......................... [15, 50, 80] [40, 40, 40]\n",
            "......................... [15, 50, 80] [40, 40, 40]\n",
            "......................... [15, 50, 80] [40, 40, 40]\n",
            "......................... [15, 50, 80] [40, 40, 40]\n",
            "......................... [15, 50, 80] [40, 40, 40]\n",
            "ex_run Tensor(\"block4_conv2/Relu:0\", shape=(None, 28, 28, 512), dtype=float32)\n",
            "ex_run Tensor(\"block4_conv2/Relu:0\", shape=(None, 28, 28, 512), dtype=float32)\n",
            "2023-06-14 07:00:16.572392: W tensorflow/tsl/framework/cpu_allocator_impl.cc:83] Allocation of 1284505600 exceeds 10% of free system memory.\n",
            "2023-06-14 07:00:20.245494: W tensorflow/tsl/framework/cpu_allocator_impl.cc:83] Allocation of 1284505600 exceeds 10% of free system memory.\n",
            "2023-06-14 07:00:25.233962: W tensorflow/tsl/framework/cpu_allocator_impl.cc:83] Allocation of 1284505600 exceeds 10% of free system memory.\n",
            "2023-06-14 07:00:31.412143: W tensorflow/tsl/framework/cpu_allocator_impl.cc:83] Allocation of 1284505600 exceeds 10% of free system memory.\n",
            "2023-06-14 07:00:43.276803: W tensorflow/tsl/framework/cpu_allocator_impl.cc:83] Allocation of 642252800 exceeds 10% of free system memory.\n",
            "ex_run Tensor(\"block4_conv2/Relu:0\", shape=(None, 28, 28, 512), dtype=float32)\n",
            "ex_run Tensor(\"block4_conv2/Relu:0\", shape=(None, 28, 28, 512), dtype=float32)\n",
            "ex_run Tensor(\"block4_conv2/Relu:0\", shape=(None, 28, 28, 512), dtype=float32)\n",
            "ex_run Tensor(\"block4_conv2/Relu:0\", shape=(None, 28, 28, 512), dtype=float32)\n",
            "ex_run Tensor(\"block4_conv2/Relu:0\", shape=(None, 28, 28, 512), dtype=float32)\n",
            "ex_run Tensor(\"block4_conv2/Relu:0\", shape=(None, 28, 28, 512), dtype=float32)\n",
            "ex_run Tensor(\"block4_conv2/Relu:0\", shape=(None, 28, 28, 512), dtype=float32)\n",
            "ex_run Tensor(\"block4_conv2/Relu:0\", shape=(None, 28, 28, 512), dtype=float32)\n",
            "ex_run Tensor(\"block4_conv2/Relu:0\", shape=(None, 28, 28, 512), dtype=float32)\n",
            "ex_run Tensor(\"block4_conv2/Relu:0\", shape=(None, 28, 28, 512), dtype=float32)\n",
            "/usr/local/lib/python3.10/dist-packages/sklearn/cluster/_kmeans.py:870: FutureWarning: The default value of `n_init` will change from 10 to 'auto' in 1.4. Set the value of `n_init` explicitly to suppress the warning\n",
            "  warnings.warn(\n",
            "ex_run Tensor(\"block4_conv2/Relu:0\", shape=(None, 28, 28, 512), dtype=float32)\n",
            "ex_run Tensor(\"block4_conv2/Relu:0\", shape=(None, 28, 28, 512), dtype=float32)\n",
            "ex_run Tensor(\"block4_conv2/Relu:0\", shape=(None, 28, 28, 512), dtype=float32)\n",
            "ex_run Tensor(\"block4_conv2/Relu:0\", shape=(None, 28, 28, 512), dtype=float32)\n",
            "ex_run Tensor(\"block4_conv2/Relu:0\", shape=(None, 28, 28, 512), dtype=float32)\n",
            "ex_run Tensor(\"block4_conv2/Relu:0\", shape=(None, 28, 28, 512), dtype=float32)\n",
            "ex_run Tensor(\"block4_conv2/Relu:0\", shape=(None, 28, 28, 512), dtype=float32)\n",
            "ex_run Tensor(\"block4_conv2/Relu:0\", shape=(None, 28, 28, 512), dtype=float32)\n",
            "ex_run Tensor(\"block4_conv2/Relu:0\", shape=(None, 28, 28, 512), dtype=float32)\n",
            "ex_run Tensor(\"block4_conv2/Relu:0\", shape=(None, 28, 28, 512), dtype=float32)\n",
            "ex_run Tensor(\"block4_conv2/Relu:0\", shape=(None, 28, 28, 512), dtype=float32)\n",
            "ex_run Tensor(\"block4_conv2/Relu:0\", shape=(None, 28, 28, 512), dtype=float32)\n",
            "ex_run Tensor(\"block4_conv2/Relu:0\", shape=(None, 28, 28, 512), dtype=float32)\n",
            "ex_run Tensor(\"block4_conv2/Relu:0\", shape=(None, 28, 28, 512), dtype=float32)\n",
            "ex_run Tensor(\"block4_conv2/Relu:0\", shape=(None, 28, 28, 512), dtype=float32)\n",
            "ex_run Tensor(\"block4_conv2/Relu:0\", shape=(None, 28, 28, 512), dtype=float32)\n",
            "ex_run Tensor(\"block4_conv2/Relu:0\", shape=(None, 28, 28, 512), dtype=float32)\n",
            "ex_run Tensor(\"block4_conv2/Relu:0\", shape=(None, 28, 28, 512), dtype=float32)\n",
            "ex_run Tensor(\"block4_conv2/Relu:0\", shape=(None, 28, 28, 512), dtype=float32)\n",
            "ex_run Tensor(\"block4_conv2/Relu:0\", shape=(None, 28, 28, 512), dtype=float32)\n",
            "ex_run Tensor(\"block4_conv2/Relu:0\", shape=(None, 28, 28, 512), dtype=float32)\n",
            "ex_run Tensor(\"block4_conv2/Relu:0\", shape=(None, 28, 28, 512), dtype=float32)\n",
            "ex_run Tensor(\"block4_conv2/Relu:0\", shape=(None, 28, 28, 512), dtype=float32)\n",
            "ex_run Tensor(\"block4_conv2/Relu:0\", shape=(None, 28, 28, 512), dtype=float32)\n",
            "ex_run Tensor(\"block4_conv2/Relu:0\", shape=(None, 28, 28, 512), dtype=float32)\n",
            "ex_run Tensor(\"block4_conv2/Relu:0\", shape=(None, 28, 28, 512), dtype=float32)\n",
            "ex_run Tensor(\"block4_conv2/Relu:0\", shape=(None, 28, 28, 512), dtype=float32)\n",
            "ex_run Tensor(\"block4_conv2/Relu:0\", shape=(None, 28, 28, 512), dtype=float32)\n",
            "ex_run Tensor(\"block4_conv2/Relu:0\", shape=(None, 28, 28, 512), dtype=float32)\n",
            "ex_run Tensor(\"block4_conv2/Relu:0\", shape=(None, 28, 28, 512), dtype=float32)\n",
            "ex_run Tensor(\"block4_conv2/Relu:0\", shape=(None, 28, 28, 512), dtype=float32)\n",
            "ex_run Tensor(\"block4_conv2/Relu:0\", shape=(None, 28, 28, 512), dtype=float32)\n",
            "ex_run Tensor(\"block4_conv2/Relu:0\", shape=(None, 28, 28, 512), dtype=float32)\n",
            "ex_run Tensor(\"block4_conv2/Relu:0\", shape=(None, 28, 28, 512), dtype=float32)\n",
            "ex_run Tensor(\"block4_conv2/Relu:0\", shape=(None, 28, 28, 512), dtype=float32)\n",
            "ex_run Tensor(\"block4_conv2/Relu:0\", shape=(None, 28, 28, 512), dtype=float32)\n",
            "ex_run Tensor(\"block4_conv2/Relu:0\", shape=(None, 28, 28, 512), dtype=float32)\n",
            "ex_run Tensor(\"block4_conv2/Relu:0\", shape=(None, 28, 28, 512), dtype=float32)\n",
            "ex_run Tensor(\"block4_conv2/Relu:0\", shape=(None, 28, 28, 512), dtype=float32)\n"
          ]
        }
      ]
    },
    {
      "cell_type": "code",
      "source": [],
      "metadata": {
        "id": "Z1F59ST-3q12"
      },
      "execution_count": null,
      "outputs": []
    }
  ]
}