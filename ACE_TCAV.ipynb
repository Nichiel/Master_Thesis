{
  "nbformat": 4,
  "nbformat_minor": 0,
  "metadata": {
    "kernelspec": {
      "display_name": "tcavenv",
      "language": "python",
      "name": "tcavenv"
    },
    "language_info": {
      "codemirror_mode": {
        "name": "ipython",
        "version": 3
      },
      "file_extension": ".py",
      "mimetype": "text/x-python",
      "name": "python",
      "nbconvert_exporter": "python",
      "pygments_lexer": "ipython3",
      "version": "3.7.6"
    },
    "colab": {
      "provenance": [],
      "collapsed_sections": [
        "GZcF9jydGWRR"
      ],
      "gpuType": "V100"
    },
    "accelerator": "GPU"
  },
  "cells": [
    {
      "cell_type": "markdown",
      "source": [
        "# ACE"
      ],
      "metadata": {
        "id": "40Lze3jZohXn"
      }
    },
    {
      "cell_type": "code",
      "source": [
        "# Clone the entire repo.\n",
        "!git clone https://github.com/tensorflow/tcav.git tcav\n",
        "%cd tcav\n",
        "!ls"
      ],
      "metadata": {
        "colab": {
          "base_uri": "https://localhost:8080/"
        },
        "id": "Mlfbls_RogsR",
        "outputId": "0c38f2d7-a348-4117-c691-d8c29b0a819e"
      },
      "execution_count": 1,
      "outputs": [
        {
          "output_type": "stream",
          "name": "stdout",
          "text": [
            "Cloning into 'tcav'...\n",
            "remote: Enumerating objects: 706, done.\u001b[K\n",
            "remote: Counting objects: 100% (6/6), done.\u001b[K\n",
            "remote: Compressing objects: 100% (6/6), done.\u001b[K\n",
            "remote: Total 706 (delta 1), reused 4 (delta 0), pack-reused 700\u001b[K\n",
            "Receiving objects: 100% (706/706), 637.67 KiB | 2.25 MiB/s, done.\n",
            "Resolving deltas: 100% (404/404), done.\n",
            "/content/tcav\n",
            "CONTRIBUTING.md        README.md\t Run_TCAV_on_colab.ipynb\n",
            "FetchDataAndModels.sh  requirements.txt  setup.py\n",
            "LICENSE\t\t       Run_TCAV.ipynb\t tcav\n"
          ]
        }
      ]
    },
    {
      "cell_type": "code",
      "source": [
        "from google.colab import drive\n",
        "drive.mount('/content/drive')"
      ],
      "metadata": {
        "colab": {
          "base_uri": "https://localhost:8080/"
        },
        "id": "mVL_zbGS9Dv6",
        "outputId": "2a79221a-eb47-4bf1-c9b3-1194312c22cf"
      },
      "execution_count": 2,
      "outputs": [
        {
          "output_type": "stream",
          "name": "stdout",
          "text": [
            "Mounted at /content/drive\n"
          ]
        }
      ]
    },
    {
      "cell_type": "code",
      "source": [
        "!pip install /content/tcav"
      ],
      "metadata": {
        "colab": {
          "base_uri": "https://localhost:8080/"
        },
        "id": "nDbmIxQiCiUF",
        "outputId": "f9e8a288-3303-47d0-e8db-bfea12b4526a"
      },
      "execution_count": 3,
      "outputs": [
        {
          "output_type": "stream",
          "name": "stdout",
          "text": [
            "Processing /content/tcav\n",
            "  Preparing metadata (setup.py) ... \u001b[?25l\u001b[?25hdone\n",
            "Requirement already satisfied: matplotlib>=2.2.4 in /usr/local/lib/python3.10/dist-packages (from tcav==0.2.2) (3.7.1)\n",
            "Requirement already satisfied: Pillow>=6.0.0 in /usr/local/lib/python3.10/dist-packages (from tcav==0.2.2) (9.4.0)\n",
            "Requirement already satisfied: scikit-learn>=0.20.3 in /usr/local/lib/python3.10/dist-packages (from tcav==0.2.2) (1.2.2)\n",
            "Requirement already satisfied: scipy>=1.2.1 in /usr/local/lib/python3.10/dist-packages (from tcav==0.2.2) (1.11.2)\n",
            "Requirement already satisfied: protobuf>=3.10.0 in /usr/local/lib/python3.10/dist-packages (from tcav==0.2.2) (3.20.3)\n",
            "Requirement already satisfied: contourpy>=1.0.1 in /usr/local/lib/python3.10/dist-packages (from matplotlib>=2.2.4->tcav==0.2.2) (1.1.0)\n",
            "Requirement already satisfied: cycler>=0.10 in /usr/local/lib/python3.10/dist-packages (from matplotlib>=2.2.4->tcav==0.2.2) (0.11.0)\n",
            "Requirement already satisfied: fonttools>=4.22.0 in /usr/local/lib/python3.10/dist-packages (from matplotlib>=2.2.4->tcav==0.2.2) (4.42.1)\n",
            "Requirement already satisfied: kiwisolver>=1.0.1 in /usr/local/lib/python3.10/dist-packages (from matplotlib>=2.2.4->tcav==0.2.2) (1.4.5)\n",
            "Requirement already satisfied: numpy>=1.20 in /usr/local/lib/python3.10/dist-packages (from matplotlib>=2.2.4->tcav==0.2.2) (1.23.5)\n",
            "Requirement already satisfied: packaging>=20.0 in /usr/local/lib/python3.10/dist-packages (from matplotlib>=2.2.4->tcav==0.2.2) (23.1)\n",
            "Requirement already satisfied: pyparsing>=2.3.1 in /usr/local/lib/python3.10/dist-packages (from matplotlib>=2.2.4->tcav==0.2.2) (3.1.1)\n",
            "Requirement already satisfied: python-dateutil>=2.7 in /usr/local/lib/python3.10/dist-packages (from matplotlib>=2.2.4->tcav==0.2.2) (2.8.2)\n",
            "Requirement already satisfied: joblib>=1.1.1 in /usr/local/lib/python3.10/dist-packages (from scikit-learn>=0.20.3->tcav==0.2.2) (1.3.2)\n",
            "Requirement already satisfied: threadpoolctl>=2.0.0 in /usr/local/lib/python3.10/dist-packages (from scikit-learn>=0.20.3->tcav==0.2.2) (3.2.0)\n",
            "Requirement already satisfied: six>=1.5 in /usr/local/lib/python3.10/dist-packages (from python-dateutil>=2.7->matplotlib>=2.2.4->tcav==0.2.2) (1.16.0)\n",
            "Building wheels for collected packages: tcav\n",
            "  Building wheel for tcav (setup.py) ... \u001b[?25l\u001b[?25hdone\n",
            "  Created wheel for tcav: filename=tcav-0.2.2-py3-none-any.whl size=54390 sha256=5960a217fb5667054d5f122c566f1afc15545ce55bfd658dc06ffe3dec542843\n",
            "  Stored in directory: /tmp/pip-ephem-wheel-cache-_b_941sv/wheels/9b/e1/eb/24809ef1f3806011e6a66c1ff746c2c501f076d083a14b9681\n",
            "Successfully built tcav\n",
            "Installing collected packages: tcav\n",
            "Successfully installed tcav-0.2.2\n"
          ]
        }
      ]
    },
    {
      "cell_type": "code",
      "source": [
        "!cp -av /content/drive/Othercomputers/Mylaptop/ACE_TCAV/ace /content/tcav"
      ],
      "metadata": {
        "id": "AlpPzdyOqbAG"
      },
      "execution_count": null,
      "outputs": []
    },
    {
      "cell_type": "code",
      "source": [
        "!python3 /content/tcav/ace/ace_run.py --target_class african_elephant --source_dir /content/drive/MyDrive/MG/work_space/TCAV_ACE/workspace/source_dir --working_dir /content/drive/MyDrive/MG/work_space/TCAV_ACE/workspace/save_dir --model_to_run Kears --model_path  /content/drive/Othercomputers/Mylaptop/ACE_TCAV/ace/vgg16_animal_3_june.h5 --labels_path /content/tcav/ace/label_names.txt --bottlenecks block4_conv2 --num_random_exp 25 --max_imgs 50 --min_imgs 30  --num_parallel_workers 2"
      ],
      "metadata": {
        "colab": {
          "base_uri": "https://localhost:8080/"
        },
        "id": "Gzo3se8c9MR1",
        "outputId": "6131fd93-b009-4dfe-ab67-71e0553b11a8"
      },
      "execution_count": null,
      "outputs": [
        {
          "output_type": "stream",
          "name": "stdout",
          "text": [
            "2023-06-14 06:59:39.446167: I tensorflow/core/platform/cpu_feature_guard.cc:182] This TensorFlow binary is optimized to use available CPU instructions in performance-critical operations.\n",
            "To enable the following instructions: AVX2 FMA, in other operations, rebuild TensorFlow with the appropriate compiler flags.\n",
            "2023-06-14 06:59:40.898665: W tensorflow/compiler/tf2tensorrt/utils/py_utils.cc:38] TF-TRT Warning: Could not find TensorRT\n",
            "2023-06-14 06:59:44.448615: I tensorflow/compiler/mlir/mlir_graph_optimization_pass.cc:353] MLIR V1 optimization pass is not enabled\n",
            "2023-06-14 06:59:44.461936: W tensorflow/c/c_api.cc:300] Operation '{name:'dense/kernel/Assign' id:579 op device:{requested: '', assigned: ''} def:{{{node dense/kernel/Assign}} = AssignVariableOp[_has_manual_control_dependencies=true, dtype=DT_FLOAT, validate_shape=false](dense/kernel, dense/kernel/Initializer/stateless_random_uniform)}}' was changed by setting attribute after it was run by a session. This mutation will have no effect, and will trigger an error in the future. Either don't modify nodes after running them or create a new session.\n",
            "jestem w if input\n",
            "jestem w if input\n",
            "jestem w if input\n",
            "jestem w if input\n",
            "jestem w if input\n",
            "jestem w if input\n",
            "jestem w if input\n",
            "jestem w if input\n",
            "jestem w if input\n",
            "jestem w if input\n",
            "jestem w if input\n",
            "jestem w if input\n",
            "jestem w if input\n",
            "jestem w if input\n",
            "jestem w if input\n",
            "jestem w if input\n",
            "jestem w if input\n",
            "jestem w if input\n",
            "jestem w if input\n",
            "jestem w if input\n",
            "jestem w if input\n",
            "{'sequential': <tf.Tensor 'random_rotation/transform/ImageProjectiveTransformV3:0' shape=(None, 224, 224, 3) dtype=float32>, 'block1_conv1': <tf.Tensor 'block1_conv1/Relu:0' shape=(None, 224, 224, 64) dtype=float32>, 'block1_conv2': <tf.Tensor 'block1_conv2/Relu:0' shape=(None, 224, 224, 64) dtype=float32>, 'block1_pool': <tf.Tensor 'block1_pool/MaxPool:0' shape=(None, 112, 112, 64) dtype=float32>, 'block2_conv1': <tf.Tensor 'block2_conv1/Relu:0' shape=(None, 112, 112, 128) dtype=float32>, 'block2_conv2': <tf.Tensor 'block2_conv2/Relu:0' shape=(None, 112, 112, 128) dtype=float32>, 'block2_pool': <tf.Tensor 'block2_pool/MaxPool:0' shape=(None, 56, 56, 128) dtype=float32>, 'block3_conv1': <tf.Tensor 'block3_conv1/Relu:0' shape=(None, 56, 56, 256) dtype=float32>, 'block3_conv2': <tf.Tensor 'block3_conv2/Relu:0' shape=(None, 56, 56, 256) dtype=float32>, 'block3_conv3': <tf.Tensor 'block3_conv3/Relu:0' shape=(None, 56, 56, 256) dtype=float32>, 'block3_pool': <tf.Tensor 'block3_pool/MaxPool:0' shape=(None, 28, 28, 256) dtype=float32>, 'block4_conv1': <tf.Tensor 'block4_conv1/Relu:0' shape=(None, 28, 28, 512) dtype=float32>, 'block4_conv2': <tf.Tensor 'block4_conv2/Relu:0' shape=(None, 28, 28, 512) dtype=float32>, 'block4_conv3': <tf.Tensor 'block4_conv3/Relu:0' shape=(None, 28, 28, 512) dtype=float32>, 'block4_pool': <tf.Tensor 'block4_pool/MaxPool:0' shape=(None, 14, 14, 512) dtype=float32>, 'block5_conv1': <tf.Tensor 'block5_conv1/Relu:0' shape=(None, 14, 14, 512) dtype=float32>, 'block5_conv2': <tf.Tensor 'block5_conv2/Relu:0' shape=(None, 14, 14, 512) dtype=float32>, 'block5_conv3': <tf.Tensor 'block5_conv3/Relu:0' shape=(None, 14, 14, 512) dtype=float32>, 'block5_pool': <tf.Tensor 'block5_pool/MaxPool:0' shape=(None, 7, 7, 512) dtype=float32>, 'global_average_pooling2d': <tf.Tensor 'global_average_pooling2d/Mean:0' shape=(None, 512) dtype=float32>, 'dense': <tf.Tensor 'dense/Softmax:0' shape=(None, 10) dtype=float32>}\n",
            "{'input': <tf.Tensor 'sequential_input:0' shape=(None, 224, 224, 3) dtype=float32>, 'prediction': <tf.Tensor 'dense/Softmax:0' shape=(None, 10) dtype=float32>}\n",
            "Jestem po labels ['african elephant', 'giant panda', 'lion', 'tiger', 'bison', 'bald eagle', 'tree frog', 'african crocodile', 'hippopotamus', 'zebra']\n",
            "Jestem po y_input Tensor(\"Placeholder_28:0\", shape=(None,), dtype=int64)\n",
            "outputs Tensor(\"dense/Softmax:0\", shape=(None, 10), dtype=float32)\n",
            "Jestem po loss Tensor(\"sparse_categorical_crossentropy/weighted_loss/value:0\", shape=(), dtype=float32)\n",
            "Jestem po gradient tensors <bound method ModelWrapper._make_gradient_tensors of <tcav.model.KerasModelWrapper object at 0x7f647beaa830>>\n",
            "......................... [15, 50, 80] [40, 40, 40]\n",
            "......................... [15, 50, 80] [40, 40, 40]\n",
            "......................... [15, 50, 80] [40, 40, 40]\n",
            "......................... [15, 50, 80] [40, 40, 40]\n",
            "......................... [15, 50, 80] [40, 40, 40]\n",
            "......................... [15, 50, 80] [40, 40, 40]\n",
            "......................... [15, 50, 80] [40, 40, 40]\n",
            "......................... [15, 50, 80] [40, 40, 40]\n",
            "......................... [15, 50, 80] [40, 40, 40]\n",
            "......................... [15, 50, 80] [40, 40, 40]\n",
            "......................... [15, 50, 80] [40, 40, 40]\n",
            "......................... [15, 50, 80] [40, 40, 40]\n",
            "......................... [15, 50, 80] [40, 40, 40]\n",
            "......................... [15, 50, 80] [40, 40, 40]\n",
            "......................... [15, 50, 80] [40, 40, 40]\n",
            "......................... [15, 50, 80] [40, 40, 40]\n",
            "......................... [15, 50, 80] [40, 40, 40]\n",
            "......................... [15, 50, 80] [40, 40, 40]\n",
            "......................... [15, 50, 80] [40, 40, 40]\n",
            "......................... [15, 50, 80] [40, 40, 40]\n",
            "......................... [15, 50, 80] [40, 40, 40]\n",
            "......................... [15, 50, 80] [40, 40, 40]\n",
            "......................... [15, 50, 80] [40, 40, 40]\n",
            "......................... [15, 50, 80] [40, 40, 40]\n",
            "......................... [15, 50, 80] [40, 40, 40]\n",
            "......................... [15, 50, 80] [40, 40, 40]\n",
            "......................... [15, 50, 80] [40, 40, 40]\n",
            "......................... [15, 50, 80] [40, 40, 40]\n",
            "......................... [15, 50, 80] [40, 40, 40]\n",
            "......................... [15, 50, 80] [40, 40, 40]\n",
            "ex_run Tensor(\"block4_conv2/Relu:0\", shape=(None, 28, 28, 512), dtype=float32)\n",
            "ex_run Tensor(\"block4_conv2/Relu:0\", shape=(None, 28, 28, 512), dtype=float32)\n",
            "2023-06-14 07:00:16.572392: W tensorflow/tsl/framework/cpu_allocator_impl.cc:83] Allocation of 1284505600 exceeds 10% of free system memory.\n",
            "2023-06-14 07:00:20.245494: W tensorflow/tsl/framework/cpu_allocator_impl.cc:83] Allocation of 1284505600 exceeds 10% of free system memory.\n",
            "2023-06-14 07:00:25.233962: W tensorflow/tsl/framework/cpu_allocator_impl.cc:83] Allocation of 1284505600 exceeds 10% of free system memory.\n",
            "2023-06-14 07:00:31.412143: W tensorflow/tsl/framework/cpu_allocator_impl.cc:83] Allocation of 1284505600 exceeds 10% of free system memory.\n",
            "2023-06-14 07:00:43.276803: W tensorflow/tsl/framework/cpu_allocator_impl.cc:83] Allocation of 642252800 exceeds 10% of free system memory.\n",
            "ex_run Tensor(\"block4_conv2/Relu:0\", shape=(None, 28, 28, 512), dtype=float32)\n",
            "ex_run Tensor(\"block4_conv2/Relu:0\", shape=(None, 28, 28, 512), dtype=float32)\n",
            "ex_run Tensor(\"block4_conv2/Relu:0\", shape=(None, 28, 28, 512), dtype=float32)\n",
            "ex_run Tensor(\"block4_conv2/Relu:0\", shape=(None, 28, 28, 512), dtype=float32)\n",
            "ex_run Tensor(\"block4_conv2/Relu:0\", shape=(None, 28, 28, 512), dtype=float32)\n",
            "ex_run Tensor(\"block4_conv2/Relu:0\", shape=(None, 28, 28, 512), dtype=float32)\n",
            "ex_run Tensor(\"block4_conv2/Relu:0\", shape=(None, 28, 28, 512), dtype=float32)\n",
            "ex_run Tensor(\"block4_conv2/Relu:0\", shape=(None, 28, 28, 512), dtype=float32)\n",
            "ex_run Tensor(\"block4_conv2/Relu:0\", shape=(None, 28, 28, 512), dtype=float32)\n",
            "ex_run Tensor(\"block4_conv2/Relu:0\", shape=(None, 28, 28, 512), dtype=float32)\n",
            "/usr/local/lib/python3.10/dist-packages/sklearn/cluster/_kmeans.py:870: FutureWarning: The default value of `n_init` will change from 10 to 'auto' in 1.4. Set the value of `n_init` explicitly to suppress the warning\n",
            "  warnings.warn(\n",
            "ex_run Tensor(\"block4_conv2/Relu:0\", shape=(None, 28, 28, 512), dtype=float32)\n",
            "ex_run Tensor(\"block4_conv2/Relu:0\", shape=(None, 28, 28, 512), dtype=float32)\n",
            "ex_run Tensor(\"block4_conv2/Relu:0\", shape=(None, 28, 28, 512), dtype=float32)\n",
            "ex_run Tensor(\"block4_conv2/Relu:0\", shape=(None, 28, 28, 512), dtype=float32)\n",
            "ex_run Tensor(\"block4_conv2/Relu:0\", shape=(None, 28, 28, 512), dtype=float32)\n",
            "ex_run Tensor(\"block4_conv2/Relu:0\", shape=(None, 28, 28, 512), dtype=float32)\n",
            "ex_run Tensor(\"block4_conv2/Relu:0\", shape=(None, 28, 28, 512), dtype=float32)\n",
            "ex_run Tensor(\"block4_conv2/Relu:0\", shape=(None, 28, 28, 512), dtype=float32)\n",
            "ex_run Tensor(\"block4_conv2/Relu:0\", shape=(None, 28, 28, 512), dtype=float32)\n",
            "ex_run Tensor(\"block4_conv2/Relu:0\", shape=(None, 28, 28, 512), dtype=float32)\n",
            "ex_run Tensor(\"block4_conv2/Relu:0\", shape=(None, 28, 28, 512), dtype=float32)\n",
            "ex_run Tensor(\"block4_conv2/Relu:0\", shape=(None, 28, 28, 512), dtype=float32)\n",
            "ex_run Tensor(\"block4_conv2/Relu:0\", shape=(None, 28, 28, 512), dtype=float32)\n",
            "ex_run Tensor(\"block4_conv2/Relu:0\", shape=(None, 28, 28, 512), dtype=float32)\n",
            "ex_run Tensor(\"block4_conv2/Relu:0\", shape=(None, 28, 28, 512), dtype=float32)\n",
            "ex_run Tensor(\"block4_conv2/Relu:0\", shape=(None, 28, 28, 512), dtype=float32)\n",
            "ex_run Tensor(\"block4_conv2/Relu:0\", shape=(None, 28, 28, 512), dtype=float32)\n",
            "ex_run Tensor(\"block4_conv2/Relu:0\", shape=(None, 28, 28, 512), dtype=float32)\n",
            "ex_run Tensor(\"block4_conv2/Relu:0\", shape=(None, 28, 28, 512), dtype=float32)\n",
            "ex_run Tensor(\"block4_conv2/Relu:0\", shape=(None, 28, 28, 512), dtype=float32)\n",
            "ex_run Tensor(\"block4_conv2/Relu:0\", shape=(None, 28, 28, 512), dtype=float32)\n",
            "ex_run Tensor(\"block4_conv2/Relu:0\", shape=(None, 28, 28, 512), dtype=float32)\n",
            "ex_run Tensor(\"block4_conv2/Relu:0\", shape=(None, 28, 28, 512), dtype=float32)\n",
            "ex_run Tensor(\"block4_conv2/Relu:0\", shape=(None, 28, 28, 512), dtype=float32)\n",
            "ex_run Tensor(\"block4_conv2/Relu:0\", shape=(None, 28, 28, 512), dtype=float32)\n",
            "ex_run Tensor(\"block4_conv2/Relu:0\", shape=(None, 28, 28, 512), dtype=float32)\n",
            "ex_run Tensor(\"block4_conv2/Relu:0\", shape=(None, 28, 28, 512), dtype=float32)\n",
            "ex_run Tensor(\"block4_conv2/Relu:0\", shape=(None, 28, 28, 512), dtype=float32)\n",
            "ex_run Tensor(\"block4_conv2/Relu:0\", shape=(None, 28, 28, 512), dtype=float32)\n",
            "ex_run Tensor(\"block4_conv2/Relu:0\", shape=(None, 28, 28, 512), dtype=float32)\n",
            "ex_run Tensor(\"block4_conv2/Relu:0\", shape=(None, 28, 28, 512), dtype=float32)\n",
            "ex_run Tensor(\"block4_conv2/Relu:0\", shape=(None, 28, 28, 512), dtype=float32)\n",
            "ex_run Tensor(\"block4_conv2/Relu:0\", shape=(None, 28, 28, 512), dtype=float32)\n",
            "ex_run Tensor(\"block4_conv2/Relu:0\", shape=(None, 28, 28, 512), dtype=float32)\n",
            "ex_run Tensor(\"block4_conv2/Relu:0\", shape=(None, 28, 28, 512), dtype=float32)\n",
            "ex_run Tensor(\"block4_conv2/Relu:0\", shape=(None, 28, 28, 512), dtype=float32)\n",
            "ex_run Tensor(\"block4_conv2/Relu:0\", shape=(None, 28, 28, 512), dtype=float32)\n",
            "ex_run Tensor(\"block4_conv2/Relu:0\", shape=(None, 28, 28, 512), dtype=float32)\n",
            "ex_run Tensor(\"block4_conv2/Relu:0\", shape=(None, 28, 28, 512), dtype=float32)\n"
          ]
        }
      ]
    }
  ]
}