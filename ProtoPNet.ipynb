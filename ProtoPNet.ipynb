{
  "cells": [
    {
      "cell_type": "code",
      "execution_count": null,
      "metadata": {
        "colab": {
          "base_uri": "https://localhost:8080/"
        },
        "id": "_hOVZvB7Tb7f",
        "outputId": "d14793ae-0441-4c3e-9eca-16443fc44e33"
      },
      "outputs": [
        {
          "output_type": "stream",
          "name": "stdout",
          "text": [
            "--2023-08-25 15:23:23--  https://download.pytorch.org/models/vgg19-dcbb9e9d.pth\n",
            "Resolving download.pytorch.org (download.pytorch.org)... 99.86.38.96, 99.86.38.106, 99.86.38.37, ...\n",
            "Connecting to download.pytorch.org (download.pytorch.org)|99.86.38.96|:443... connected.\n",
            "HTTP request sent, awaiting response... 200 OK\n",
            "Length: 574673361 (548M) [binary/octet-stream]\n",
            "Saving to: ‘vgg19-dcbb9e9d.pth’\n",
            "\n",
            "vgg19-dcbb9e9d.pth  100%[===================>] 548.05M  77.8MB/s    in 7.1s    \n",
            "\n",
            "2023-08-25 15:23:30 (77.0 MB/s) - ‘vgg19-dcbb9e9d.pth’ saved [574673361/574673361]\n",
            "\n"
          ]
        }
      ],
      "source": [
        "!wget https://download.pytorch.org/models/vgg19-dcbb9e9d.pth"
      ]
    },
    {
      "cell_type": "code",
      "execution_count": null,
      "metadata": {
        "colab": {
          "base_uri": "https://localhost:8080/"
        },
        "id": "yZqqMhbETmq1",
        "outputId": "d01f26dd-1206-4b8b-df30-bf07f44add7b"
      },
      "outputs": [
        {
          "output_type": "stream",
          "name": "stdout",
          "text": [
            "--2023-08-25 15:23:30--  https://github.com/cfchen-duke/ProtoPNet/archive/refs/heads/master.zip\n",
            "Resolving github.com (github.com)... 192.30.255.112\n",
            "Connecting to github.com (github.com)|192.30.255.112|:443... connected.\n",
            "HTTP request sent, awaiting response... 302 Found\n",
            "Location: https://codeload.github.com/cfchen-duke/ProtoPNet/zip/refs/heads/master [following]\n",
            "--2023-08-25 15:23:30--  https://codeload.github.com/cfchen-duke/ProtoPNet/zip/refs/heads/master\n",
            "Resolving codeload.github.com (codeload.github.com)... 192.30.255.121\n",
            "Connecting to codeload.github.com (codeload.github.com)|192.30.255.121|:443... connected.\n",
            "HTTP request sent, awaiting response... 200 OK\n",
            "Length: unspecified [application/zip]\n",
            "Saving to: ‘master.zip’\n",
            "\n",
            "master.zip              [              <=>   ] 100.49M  15.8MB/s    in 6.4s    \n",
            "\n",
            "2023-08-25 15:23:37 (15.8 MB/s) - ‘master.zip’ saved [105374605]\n",
            "\n"
          ]
        }
      ],
      "source": [
        "!wget https://github.com/cfchen-duke/ProtoPNet/archive/refs/heads/master.zip"
      ]
    },
    {
      "cell_type": "code",
      "execution_count": null,
      "metadata": {
        "id": "jDapmsAhT-gJ"
      },
      "outputs": [],
      "source": [
        "# !unzip /content/master.zip"
      ]
    },
    {
      "cell_type": "code",
      "execution_count": null,
      "metadata": {
        "colab": {
          "base_uri": "https://localhost:8080/"
        },
        "id": "C6C0NJ9QHVvn",
        "outputId": "4ed9d767-3526-4edc-f776-19ce5f54733a"
      },
      "outputs": [
        {
          "output_type": "stream",
          "name": "stdout",
          "text": [
            "Mounted at /content/drive\n"
          ]
        }
      ],
      "source": [
        "\n",
        "from google.colab import drive\n",
        "drive.mount('/content/drive')\n",
        "\n",
        "#zawartość dostępna w folderze ProtoPNet_modified\n",
        "!cp  /content/drive/MyDrive/MG/work_space/ProtoPNet/helpers.py  helpers.py\n",
        "!cp /content/drive/MyDrive/MG/work_space/ProtoPNet/model.py model.py\n",
        "!cp /content/drive/MyDrive/MG/work_space/ProtoPNet/push.py push.py\n",
        "!cp /content/drive/MyDrive/MG/work_space/ProtoPNet/prune.py prune.py\n",
        "!cp /content/drive/MyDrive/MG/work_space/ProtoPNet/find_nearest.py find_nearest.py\n",
        "!cp /content/drive/MyDrive/MG/work_space/ProtoPNet/train_and_test.py train_and_test.py\n",
        "!cp /content/drive/MyDrive/MG/work_space/ProtoPNet/save.py save.py\n",
        "!cp /content/drive/MyDrive/MG/work_space/ProtoPNet/log.py log.py\n",
        "!cp /content/drive/MyDrive/MG/work_space/ProtoPNet/preprocess.py preprocess.py\n",
        "!cp /content/drive/MyDrive/MG/work_space/ProtoPNet/save.py save.py\n",
        "!cp /content/drive/MyDrive/MG/work_space/ProtoPNet/resnet_features.py resnet_features.py\n",
        "!cp /content/drive/MyDrive/MG/work_space/ProtoPNet/densenet_features.py densenet_features.py\n",
        "!cp /content/drive/MyDrive/MG/work_space/ProtoPNet/vgg_features.py vgg_features.py\n",
        "!cp /content/drive/MyDrive/MG/work_space/ProtoPNet/receptive_field.py receptive_field.py\n",
        "!cp /content/drive/MyDrive/MG/work_space/ProtoPNet/main.py main.py\n",
        "!cp /content/drive/MyDrive/MG/work_space/ProtoPNet/global_analysis.py global_analysis.py\n",
        "!cp /content/drive/MyDrive/MG/work_space/ProtoPNet/local_analysis.py local_analysis.py\n",
        "!cp /content/drive/MyDrive/MG/work_space/ProtoPNet/settings.py settings.py"
      ]
    },
    {
      "cell_type": "code",
      "execution_count": null,
      "metadata": {
        "id": "WAlTZ1ATWKgg"
      },
      "outputs": [],
      "source": [
        "!python main.py"
      ]
    },
    {
      "cell_type": "code",
      "execution_count": null,
      "metadata": {
        "id": "k6xpa_f-1Mgo"
      },
      "outputs": [],
      "source": [
        "!zip -r /content/saved_models.zip /content/saved_models"
      ]
    },
    {
      "cell_type": "code",
      "execution_count": null,
      "metadata": {
        "id": "CCFHabM-2qKf"
      },
      "outputs": [],
      "source": [
        "!python global_analysis.py -modeldir /content/drive/Othercomputers/Mylaptop/tensorflow_Dataset_first/saved_models -model /content/drive/Othercomputers/Mylaptop/tensorflow_Dataset_first/saved_models/vgg19/003/10nopush0.9660.pth"
      ]
    },
    {
      "cell_type": "code",
      "execution_count": null,
      "metadata": {
        "colab": {
          "base_uri": "https://localhost:8080/"
        },
        "id": "NioqN3LVmeKk",
        "outputId": "839e8e1a-eb7f-4da7-a1c8-a5f3fe76e7c1"
      },
      "outputs": [
        {
          "name": "stdout",
          "output_type": "stream",
          "text": [
            "mkdir: cannot create directory ‘10push0.9375.pth’: File exists\n"
          ]
        }
      ],
      "source": [
        "!cd drive/MyDrive/MG/work_space/ProtoPNet/saved_models/vgg19/004\n",
        "!mkdir 10push0.9551.pth"
      ]
    },
    {
      "cell_type": "code",
      "execution_count": null,
      "metadata": {
        "id": "f3y9SzcFxfrL"
      },
      "outputs": [],
      "source": [
        "from IPython.core.display import Path\n",
        "import glob\n",
        "import os\n",
        "SOURCE_PATH = '/content/drive/MyDrive/MG/work_space/TCAV_ACE/workspace/source_dir'\n",
        "animals = [ 'lion', 'bison',\t'bald_eagle',  'tree_frog',  'african_crocodile', \t'hippopotamus', 'tiger', 'zebra', 'african_elephant', 'giant_panda'] #\n",
        "animals_index = [6, 3, 2, 8, 0, 5, 7, 9, 1, 4]\n",
        "for a, index in zip(animals,animals_index):\n",
        "  animal_path = SOURCE_PATH + \"/\" + a + \"/\"\n",
        "  image_pathes = glob.glob(animal_path + \"*\")\n",
        "  for path in image_pathes:\n",
        "    path = path.split(\"/\")[-1]\n",
        "    command = f'python  local_analysis.py  -modeldir /content/drive/MyDrive/MG/work_space/ProtoPNet/saved_models -model /content/drive/Othercomputers/Mylaptop/tensorflow_Dataset_first/saved_models/vgg19/004/10push0.9551.pth  -imgdir {animal_path} -img {path} -imgclass {index}'\n",
        "    os.system(command)"
      ]
    }
  ],
  "metadata": {
    "accelerator": "GPU",
    "colab": {
      "provenance": []
    },
    "gpuClass": "standard",
    "kernelspec": {
      "display_name": "Python 3",
      "language": "python",
      "name": "python3"
    },
    "language_info": {
      "codemirror_mode": {
        "name": "ipython",
        "version": 3
      },
      "file_extension": ".py",
      "mimetype": "text/x-python",
      "name": "python",
      "nbconvert_exporter": "python",
      "pygments_lexer": "ipython3",
      "version": "3.6.3"
    }
  },
  "nbformat": 4,
  "nbformat_minor": 0
}