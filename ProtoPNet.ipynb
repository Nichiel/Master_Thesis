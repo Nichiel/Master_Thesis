{
  "cells": [
    {
      "cell_type": "code",
      "execution_count": 4,
      "metadata": {
        "colab": {
          "base_uri": "https://localhost:8080/"
        },
        "id": "_hOVZvB7Tb7f",
        "outputId": "f07f342c-e4a1-485b-e4b6-eaed9ad85b58"
      },
      "outputs": [
        {
          "output_type": "stream",
          "name": "stdout",
          "text": [
            "--2023-09-22 20:51:23--  https://github.com/cfchen-duke/ProtoPNet\n",
            "Resolving github.com (github.com)... 140.82.112.4\n",
            "Connecting to github.com (github.com)|140.82.112.4|:443... connected.\n",
            "HTTP request sent, awaiting response... 200 OK\n",
            "Length: unspecified [text/html]\n",
            "Saving to: ‘ProtoPNet.1’\n",
            "\n",
            "ProtoPNet.1             [ <=>                ] 223.92K  --.-KB/s    in 0.1s    \n",
            "\n",
            "2023-09-22 20:51:24 (2.25 MB/s) - ‘ProtoPNet.1’ saved [229292]\n",
            "\n"
          ]
        }
      ],
      "source": [
        "!wget https://github.com/cfchen-duke/ProtoPNet"
      ]
    },
    {
      "cell_type": "code",
      "execution_count": 3,
      "metadata": {
        "colab": {
          "base_uri": "https://localhost:8080/"
        },
        "id": "yZqqMhbETmq1",
        "outputId": "7bddf27e-d2de-4d7f-dcb2-bf5da3625f4e"
      },
      "outputs": [
        {
          "output_type": "stream",
          "name": "stdout",
          "text": [
            "--2023-09-22 20:50:28--  https://github.com/cfchen-duke/ProtoPNet\n",
            "Resolving github.com (github.com)... 140.82.113.3\n",
            "Connecting to github.com (github.com)|140.82.113.3|:443... connected.\n",
            "HTTP request sent, awaiting response... 200 OK\n",
            "Length: unspecified [text/html]\n",
            "Saving to: ‘ProtoPNet’\n",
            "\n",
            "ProtoPNet               [ <=>                ] 232.65K  --.-KB/s    in 0.1s    \n",
            "\n",
            "2023-09-22 20:50:28 (2.32 MB/s) - ‘ProtoPNet’ saved [238229]\n",
            "\n"
          ]
        }
      ],
      "source": [
        "!wget https://github.com/cfchen-duke/ProtoPNet"
      ]
    },
    {
      "cell_type": "code",
      "source": [
        "!unzip master.zip\n"
      ],
      "metadata": {
        "colab": {
          "base_uri": "https://localhost:8080/"
        },
        "id": "Hm34m0Axp7LW",
        "outputId": "488614f9-e339-4933-94bb-82fac5188ef5"
      },
      "execution_count": 5,
      "outputs": [
        {
          "output_type": "stream",
          "name": "stdout",
          "text": [
            "Archive:  master.zip\n",
            "81bf2b70cb60e4f36e25e8be386eb616b7459321\n",
            "   creating: ProtoPNet-master/\n",
            "  inflating: ProtoPNet-master/LICENSE  \n",
            "  inflating: ProtoPNet-master/README.txt  \n",
            "  inflating: ProtoPNet-master/combine_models.ipynb  \n",
            "  inflating: ProtoPNet-master/densenet_features.py  \n",
            "  inflating: ProtoPNet-master/find_nearest.py  \n",
            "  inflating: ProtoPNet-master/global_analysis.py  \n",
            "  inflating: ProtoPNet-master/helpers.py  \n",
            "  inflating: ProtoPNet-master/img_aug.py  \n",
            "  inflating: ProtoPNet-master/links_to_datasets.txt  \n",
            "  inflating: ProtoPNet-master/local_analysis.py  \n",
            "  inflating: ProtoPNet-master/log.py  \n",
            "  inflating: ProtoPNet-master/main.py  \n",
            "  inflating: ProtoPNet-master/model.py  \n",
            "  inflating: ProtoPNet-master/poster.pdf  \n",
            "  inflating: ProtoPNet-master/preprocess.py  \n",
            "  inflating: ProtoPNet-master/prune.py  \n",
            "  inflating: ProtoPNet-master/push.py  \n",
            "  inflating: ProtoPNet-master/receptive_field.py  \n",
            "  inflating: ProtoPNet-master/resnet_features.py  \n",
            "  inflating: ProtoPNet-master/run_pruning.py  \n",
            "  inflating: ProtoPNet-master/save.py  \n",
            "  inflating: ProtoPNet-master/settings.py  \n",
            "  inflating: ProtoPNet-master/slides.pdf  \n",
            "  inflating: ProtoPNet-master/supp_this_looks_like_that.pdf  \n",
            "  inflating: ProtoPNet-master/this_looks_like_that.pdf  \n",
            "  inflating: ProtoPNet-master/train_and_test.py  \n",
            "  inflating: ProtoPNet-master/vgg_features.py  \n"
          ]
        }
      ]
    },
    {
      "cell_type": "markdown",
      "source": [
        "Zawartość dostępna w folderze ProtoPNet_modified"
      ],
      "metadata": {
        "id": "C_mFy7e0K3Cd"
      }
    },
    {
      "cell_type": "code",
      "execution_count": 7,
      "metadata": {
        "colab": {
          "base_uri": "https://localhost:8080/"
        },
        "id": "C6C0NJ9QHVvn",
        "outputId": "555d9a5c-9ab7-4a92-f2ab-896cc4a19f44"
      },
      "outputs": [
        {
          "output_type": "stream",
          "name": "stdout",
          "text": [
            "Mounted at /content/drive\n"
          ]
        }
      ],
      "source": [
        "from google.colab import drive\n",
        "drive.mount('/content/drive')\n",
        "\n",
        "!cp /content/drive/MyDrive/MG/work_space/ProtoPNet/main.py /content/ProtoPNet-master/main.py\n",
        "!cp /content/drive/MyDrive/MG/work_space/ProtoPNet/global_analysis.py /content/ProtoPNet-master/global_analysis.py\n",
        "!cp /content/drive/MyDrive/MG/work_space/ProtoPNet/local_analysis.py /content/ProtoPNet-master/local_analysis.py\n",
        "!cp /content/drive/MyDrive/MG/work_space/ProtoPNet/settings.py /content/ProtoPNet-master/settings.py"
      ]
    },
    {
      "cell_type": "code",
      "execution_count": 8,
      "metadata": {
        "id": "WAlTZ1ATWKgg",
        "colab": {
          "base_uri": "https://localhost:8080/"
        },
        "outputId": "14e96265-0698-41ed-db78-1c6fb6450ad0"
      },
      "outputs": [
        {
          "output_type": "stream",
          "name": "stdout",
          "text": [
            "0\n",
            "/usr/local/lib/python3.10/dist-packages/torch/utils/data/dataloader.py:560: UserWarning: This DataLoader will create 4 worker processes in total. Our suggested max number of worker in current system is 2, which is smaller than what this DataLoader is going to create. Please be aware that excessive worker creation might get DataLoader running slow or even freeze, lower the worker number to avoid potential slowness/freeze if necessary.\n",
            "  warnings.warn(_create_warning_msg(\n",
            "training set size: 9746\n",
            "push set size: 9746\n",
            "test set size: 3231\n",
            "batch size: 80\n",
            "Downloading: \"https://download.pytorch.org/models/vgg19-dcbb9e9d.pth\" to ./pretrained_models/vgg19-dcbb9e9d.pth\n",
            "100% 548M/548M [00:02<00:00, 276MB/s]\n",
            "start training\n",
            "epoch: \t0\n",
            "\twarm\n",
            "\ttrain\n",
            "Traceback (most recent call last):\n",
            "\n",
            "^C\n"
          ]
        }
      ],
      "source": [
        "!python /content/ProtoPNet-master/main.py"
      ]
    },
    {
      "cell_type": "code",
      "execution_count": null,
      "metadata": {
        "id": "k6xpa_f-1Mgo"
      },
      "outputs": [],
      "source": [
        "# !zip -r /content/saved_models.zip /content/saved_models"
      ]
    },
    {
      "cell_type": "markdown",
      "source": [
        "The path to your model and model name should be replaced"
      ],
      "metadata": {
        "id": "SKWTb3NPKJCO"
      }
    },
    {
      "cell_type": "code",
      "execution_count": null,
      "metadata": {
        "id": "CCFHabM-2qKf"
      },
      "outputs": [],
      "source": [
        "!python /content/ProtoPNet-master/global_analysis.py -modeldir /content/drive/Othercomputers/Mylaptop/tensorflow_Dataset_first/saved_models -model /content/drive/Othercomputers/Mylaptop/tensorflow_Dataset_first/saved_models/vgg19/003/10nopush0.9660.pth"
      ]
    },
    {
      "cell_type": "code",
      "execution_count": null,
      "metadata": {
        "colab": {
          "base_uri": "https://localhost:8080/"
        },
        "id": "NioqN3LVmeKk",
        "outputId": "839e8e1a-eb7f-4da7-a1c8-a5f3fe76e7c1"
      },
      "outputs": [
        {
          "name": "stdout",
          "output_type": "stream",
          "text": [
            "mkdir: cannot create directory ‘10push0.9375.pth’: File exists\n"
          ]
        }
      ],
      "source": [
        "!cd drive/MyDrive/MG/work_space/ProtoPNet/saved_models/vgg19/004\n",
        "!mkdir 10push0.9551.pth"
      ]
    },
    {
      "cell_type": "code",
      "execution_count": null,
      "metadata": {
        "id": "f3y9SzcFxfrL"
      },
      "outputs": [],
      "source": [
        "from IPython.core.display import Path\n",
        "import glob\n",
        "import os\n",
        "SOURCE_PATH = '/content/drive/MyDrive/MG/work_space/TCAV_ACE/workspace/source_dir'\n",
        "animals = [ 'lion', 'bison',\t'bald_eagle',  'tree_frog',  'african_crocodile', \t'hippopotamus', 'tiger', 'zebra', 'african_elephant', 'giant_panda'] #\n",
        "animals_index = [6, 3, 2, 8, 0, 5, 7, 9, 1, 4]\n",
        "for a, index in zip(animals,animals_index):\n",
        "  animal_path = SOURCE_PATH + \"/\" + a + \"/\"\n",
        "  image_pathes = glob.glob(animal_path + \"*\")\n",
        "  for path in image_pathes:\n",
        "    path = path.split(\"/\")[-1]\n",
        "    command = f'python  local_analysis.py  -modeldir /content/drive/MyDrive/MG/work_space/ProtoPNet/saved_models -model /content/drive/Othercomputers/Mylaptop/tensorflow_Dataset_first/saved_models/vgg19/004/10push0.9551.pth  -imgdir {animal_path} -img {path} -imgclass {index}'\n",
        "    os.system(command)"
      ]
    }
  ],
  "metadata": {
    "accelerator": "GPU",
    "colab": {
      "provenance": []
    },
    "gpuClass": "standard",
    "kernelspec": {
      "display_name": "Python 3",
      "language": "python",
      "name": "python3"
    },
    "language_info": {
      "codemirror_mode": {
        "name": "ipython",
        "version": 3
      },
      "file_extension": ".py",
      "mimetype": "text/x-python",
      "name": "python",
      "nbconvert_exporter": "python",
      "pygments_lexer": "ipython3",
      "version": "3.6.3"
    }
  },
  "nbformat": 4,
  "nbformat_minor": 0
}